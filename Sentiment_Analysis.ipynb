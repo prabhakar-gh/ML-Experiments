{
  "nbformat": 4,
  "nbformat_minor": 0,
  "metadata": {
    "colab": {
      "provenance": [],
      "authorship_tag": "ABX9TyORzUv3wVtFxD5OwpwhVOAK",
      "include_colab_link": true
    },
    "kernelspec": {
      "name": "python3",
      "display_name": "Python 3"
    },
    "language_info": {
      "name": "python"
    }
  },
  "cells": [
    {
      "cell_type": "markdown",
      "metadata": {
        "id": "view-in-github",
        "colab_type": "text"
      },
      "source": [
        "<a href=\"https://colab.research.google.com/github/prabhakar-gh/ML-Experiments/blob/main/Sentiment_Analysis.ipynb\" target=\"_parent\"><img src=\"https://colab.research.google.com/assets/colab-badge.svg\" alt=\"Open In Colab\"/></a>"
      ]
    },
    {
      "cell_type": "markdown",
      "source": [
        "Install transformer and gradio libraries"
      ],
      "metadata": {
        "id": "VxCmnZD1nL-B"
      }
    },
    {
      "cell_type": "code",
      "execution_count": null,
      "metadata": {
        "collapsed": true,
        "id": "dFFtJcQFC8bC"
      },
      "outputs": [],
      "source": [
        "!pip install transformers\n",
        "!pip install gradio"
      ]
    },
    {
      "cell_type": "markdown",
      "source": [],
      "metadata": {
        "id": "RnZjzxK1nCT8"
      }
    },
    {
      "cell_type": "code",
      "source": [
        "from transformers import pipeline\n",
        "import gradio as gr"
      ],
      "metadata": {
        "id": "eTfhyFc5Dah-"
      },
      "execution_count": null,
      "outputs": []
    },
    {
      "cell_type": "code",
      "source": [
        "# Load the sentiment analysis pipeline\n",
        "sentiment_analyzer = pipeline(\"sentiment-analysis\", model=\"distilbert-base-uncased-finetuned-sst-2-english\")"
      ],
      "metadata": {
        "id": "bEEdlkDUDllx"
      },
      "execution_count": null,
      "outputs": []
    },
    {
      "cell_type": "code",
      "source": [
        "def analyze_sentiment(text):\n",
        "    result = sentiment_analyzer(text)[0]  # Get the first result from the pipeline\n",
        "    label = result[\"label\"]  # \"POSITIVE\" or \"NEGATIVE\"\n",
        "    score = result[\"score\"]  # Confidence score (0 to 1)\n",
        "    return f\"Sentiment: {label} (Confidence: {score:.2%})\""
      ],
      "metadata": {
        "id": "02bbwD85Dq5n"
      },
      "execution_count": null,
      "outputs": []
    },
    {
      "cell_type": "code",
      "source": [
        "# Define the interface\n",
        "interface = gr.Interface(\n",
        "    fn=analyze_sentiment,          # Function to call\n",
        "    inputs=\"text\",                 # Input type (text box)\n",
        "    outputs=\"text\",                # Output type (text display)\n",
        "    title=\"Sentiment Analysis Tool\",\n",
        "    description=\"Enter some text to analyze its sentiment (positive or negative).\"\n",
        ")\n",
        "\n",
        "# Launch the app\n",
        "interface.launch(share=True, debug=True)"
      ],
      "metadata": {
        "id": "FBVvI-78D3VZ"
      },
      "execution_count": null,
      "outputs": []
    }
  ]
}